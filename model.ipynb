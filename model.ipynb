{
  "nbformat": 4,
  "nbformat_minor": 0,
  "metadata": {
    "colab": {
      "name": "model.ipynb",
      "provenance": [],
      "include_colab_link": true
    },
    "kernelspec": {
      "name": "python3",
      "display_name": "Python 3"
    }
  },
  "cells": [
    {
      "cell_type": "markdown",
      "metadata": {
        "id": "view-in-github",
        "colab_type": "text"
      },
      "source": [
        "<a href=\"https://colab.research.google.com/github/pulavartivinay/Face_Mask_Detection/blob/model/model.ipynb\" target=\"_parent\"><img src=\"https://colab.research.google.com/assets/colab-badge.svg\" alt=\"Open In Colab\"/></a>"
      ]
    },
    {
      "cell_type": "code",
      "metadata": {
        "id": "AOLvQGuk0lNt"
      },
      "source": [
        "# start"
      ],
      "execution_count": 16,
      "outputs": []
    },
    {
      "cell_type": "code",
      "metadata": {
        "id": "AlBnX4vG41B_"
      },
      "source": [
        "# installs"
      ],
      "execution_count": null,
      "outputs": []
    },
    {
      "cell_type": "code",
      "metadata": {
        "id": "lkpx-z0O434I"
      },
      "source": [
        "# imports"
      ],
      "execution_count": null,
      "outputs": []
    },
    {
      "cell_type": "code",
      "metadata": {
        "id": "rr33kyIi47Cb",
        "outputId": "51fc6e0a-1e5f-42ce-c12e-61aad5276e5a",
        "colab": {
          "base_uri": "https://localhost:8080/"
        }
      },
      "source": [
        "# loading dataset\n",
        "# https://www.kaggle.com/ashishjangra27/face-mask-12k-images-dataset\n",
        "\n",
        "!gdown --id 1NOzYPR3zAS8e2EFdRvjYpSBxg9RaDfxe #loading the dataset from google drive link to colab\n",
        "!unzip /content/face-mask-12k.zip &> /dev/null #unzipping\n",
        "!rm -rf /content/face-mask-12k.zip &> /dev/null #deleting the zip file\n",
        "!rm -rf __MACOSX &> /dev/null"
      ],
      "execution_count": 15,
      "outputs": [
        {
          "output_type": "stream",
          "text": [
            "Downloading...\n",
            "From: https://drive.google.com/uc?id=1NOzYPR3zAS8e2EFdRvjYpSBxg9RaDfxe\n",
            "To: /content/face-mask-12k.zip\n",
            "351MB [00:02, 165MB/s]\n"
          ],
          "name": "stdout"
        }
      ]
    },
    {
      "cell_type": "code",
      "metadata": {
        "id": "L8ab3ejV4-yQ"
      },
      "source": [
        "# Preprocessing the data set into list of images -- Vinay\n",
        "# https://keras.io/api/preprocessing/image/#image_dataset_from_directory-function"
      ],
      "execution_count": null,
      "outputs": []
    },
    {
      "cell_type": "code",
      "metadata": {
        "id": "8mjCVJ0P5KYH"
      },
      "source": [
        "# Model(Transfer Learning) (optional)"
      ],
      "execution_count": null,
      "outputs": []
    },
    {
      "cell_type": "code",
      "metadata": {
        "id": "0VBi3RS35Xi6"
      },
      "source": [
        "# Main Model "
      ],
      "execution_count": null,
      "outputs": []
    },
    {
      "cell_type": "code",
      "metadata": {
        "id": "2r0j5BW-605u"
      },
      "source": [
        "# Setting the Hyper Parameters"
      ],
      "execution_count": null,
      "outputs": []
    },
    {
      "cell_type": "code",
      "metadata": {
        "id": "GNZ31Tj15buP"
      },
      "source": [
        "# Model Compilation -- Vinay\n",
        "# https://keras.io/api/models/model_training_apis/"
      ],
      "execution_count": null,
      "outputs": []
    },
    {
      "cell_type": "code",
      "metadata": {
        "id": "IFgDxtDw5epa"
      },
      "source": [
        "# Training -- Vipul\n",
        "# https://keras.io/api/models/model_training_apis/"
      ],
      "execution_count": null,
      "outputs": []
    },
    {
      "cell_type": "code",
      "metadata": {
        "id": "dVYNGp1W7Bvw"
      },
      "source": [
        "# Adding call Back Functions(optional)\n",
        "# https://medium.com/@thongonary/how-to-compute-f1-score-for-each-epoch-in-keras-a1acd17715a2"
      ],
      "execution_count": null,
      "outputs": []
    },
    {
      "cell_type": "code",
      "metadata": {
        "id": "NeQSejCv5I0K"
      },
      "source": [
        "# model evaluation\n",
        "# https://keras.io/api/models/model_training_apis/"
      ],
      "execution_count": null,
      "outputs": []
    },
    {
      "cell_type": "code",
      "metadata": {
        "id": "MfkMRIPh5r7i"
      },
      "source": [
        "# Predictions of single random image -- Vipul\n",
        "# https://keras.io/api/models/model_training_apis/"
      ],
      "execution_count": null,
      "outputs": []
    },
    {
      "cell_type": "code",
      "metadata": {
        "id": "aMW1RX0450xM"
      },
      "source": [
        "# Drawing the corresponding boundary of single random image on parent random image -- Vinay"
      ],
      "execution_count": null,
      "outputs": []
    },
    {
      "cell_type": "code",
      "metadata": {
        "id": "01Xvxsds5grG"
      },
      "source": [
        "# Predictions of Validation data set(Dev) -- Vinay"
      ],
      "execution_count": null,
      "outputs": []
    },
    {
      "cell_type": "code",
      "metadata": {
        "id": "YavK51Qt6Euc"
      },
      "source": [
        "# Drawing the corresponding boundary of some random images on parent images from Dev data set -- Vipul"
      ],
      "execution_count": null,
      "outputs": []
    },
    {
      "cell_type": "code",
      "metadata": {
        "id": "vZDmMDzt6P05"
      },
      "source": [
        "# Drawing the Loss and accuracy of the model -- Vipul"
      ],
      "execution_count": null,
      "outputs": []
    },
    {
      "cell_type": "code",
      "metadata": {
        "id": "MQIxWekl6WrB"
      },
      "source": [
        "# Calculating the F1-Score of the Model on Dev data set -- Vinay\n",
        "# https://datascience.stackexchange.com/questions/45165/how-to-get-accuracy-f1-precision-and-recall-for-a-keras-model\n",
        "# https://medium.com/@thongonary/how-to-compute-f1-score-for-each-epoch-in-keras-a1acd17715a2"
      ],
      "execution_count": null,
      "outputs": []
    },
    {
      "cell_type": "code",
      "metadata": {
        "id": "f3SpRlon6avL"
      },
      "source": [
        "# Visualisation of the F1-Score -- Vinay"
      ],
      "execution_count": null,
      "outputs": []
    }
  ]
}