{
  "nbformat": 4,
  "nbformat_minor": 0,
  "metadata": {
    "colab": {
      "name": "model.ipynb",
      "provenance": [],
      "include_colab_link": true
    },
    "kernelspec": {
      "name": "python3",
      "display_name": "Python 3"
    }
  },
  "cells": [
    {
      "cell_type": "markdown",
      "metadata": {
        "id": "view-in-github",
        "colab_type": "text"
      },
      "source": [
        "<a href=\"https://colab.research.google.com/github/pulavartivinay/Face_Mask_Detection/blob/model/model.ipynb\" target=\"_parent\"><img src=\"https://colab.research.google.com/assets/colab-badge.svg\" alt=\"Open In Colab\"/></a>"
      ]
    },
    {
      "cell_type": "code",
      "metadata": {
        "id": "AOLvQGuk0lNt"
      },
      "source": [
        "# start"
      ],
      "execution_count": 3,
      "outputs": []
    },
    {
      "cell_type": "code",
      "metadata": {
        "id": "AlBnX4vG41B_"
      },
      "source": [
        "# installs"
      ],
      "execution_count": 4,
      "outputs": []
    },
    {
      "cell_type": "code",
      "metadata": {
        "id": "lkpx-z0O434I"
      },
      "source": [
        "# imports\r\n",
        "import tensorflow as tf\r\n",
        "import cv2\r\n",
        "from keras import backend as K\r\n",
        "from google.colab.patches import cv2_imshow"
      ],
      "execution_count": 5,
      "outputs": []
    },
    {
      "cell_type": "code",
      "metadata": {
        "id": "rr33kyIi47Cb",
        "colab": {
          "base_uri": "https://localhost:8080/"
        },
        "outputId": "ddbf9204-ec01-49b0-efeb-7d10ce9d0ae0"
      },
      "source": [
        "# loading dataset\n",
        "# https://www.kaggle.com/ashishjangra27/face-mask-12k-images-dataset\n",
        "\n",
        "!gdown --id 1NOzYPR3zAS8e2EFdRvjYpSBxg9RaDfxe #loading the dataset from google drive link to colab\n",
        "!unzip /content/face-mask-12k.zip &> /dev/null #unzipping\n",
        "!rm -rf /content/face-mask-12k.zip &> /dev/null #deleting the zip file\n",
        "!rm -rf __MACOSX &> /dev/null"
      ],
      "execution_count": 3,
      "outputs": [
        {
          "output_type": "stream",
          "text": [
            "Downloading...\n",
            "From: https://drive.google.com/uc?id=1NOzYPR3zAS8e2EFdRvjYpSBxg9RaDfxe\n",
            "To: /content/face-mask-12k.zip\n",
            "351MB [00:01, 224MB/s]\n"
          ],
          "name": "stdout"
        }
      ]
    },
    {
      "cell_type": "code",
      "metadata": {
        "id": "L8ab3ejV4-yQ",
        "colab": {
          "base_uri": "https://localhost:8080/"
        },
        "outputId": "c6730343-10d1-4150-fffa-3f9147754e90"
      },
      "source": [
        "# Preprocessing the data set into list of images -- Vinay\n",
        "# https://keras.io/api/preprocessing/image/#image_dataset_from_directory-function\n",
        "\n",
        "train_dataset = tf.keras.preprocessing.image_dataset_from_directory(\n",
        "    \"/content/face-mask-12k/Train\",\n",
        "    labels=\"inferred\",\n",
        "    label_mode=\"binary\",\n",
        "    class_names=None,\n",
        "    color_mode=\"rgb\",\n",
        "    batch_size=32,\n",
        "    image_size=(256, 256),\n",
        "    shuffle=True,\n",
        "    seed=None,\n",
        "    validation_split=None,\n",
        "    subset=None,\n",
        "    interpolation=\"bilinear\",\n",
        "    follow_links=False,\n",
        ")\n",
        "\n",
        "val_dataset = tf.keras.preprocessing.image_dataset_from_directory(\n",
        "    \"/content/face-mask-12k/Validation\",\n",
        "    labels=\"inferred\",\n",
        "    label_mode=\"binary\",\n",
        "    class_names=None,\n",
        "    color_mode=\"rgb\",\n",
        "    batch_size=32,\n",
        "    image_size=(256, 256),\n",
        "    shuffle=True,\n",
        "    seed=None,\n",
        "    validation_split=None,\n",
        "    subset=None,\n",
        "    interpolation=\"bilinear\",\n",
        "    follow_links=False,\n",
        ")\n",
        "\n",
        "print(len(train_dataset))\n",
        "print(len(val_dataset))\n"
      ],
      "execution_count": 7,
      "outputs": [
        {
          "output_type": "stream",
          "text": [
            "Found 10000 files belonging to 2 classes.\n",
            "Found 800 files belonging to 2 classes.\n",
            "313\n",
            "25\n"
          ],
          "name": "stdout"
        }
      ]
    },
    {
      "cell_type": "code",
      "metadata": {
        "id": "8mjCVJ0P5KYH"
      },
      "source": [
        "# Model(Transfer Learning) (optional)"
      ],
      "execution_count": null,
      "outputs": []
    },
    {
      "cell_type": "code",
      "metadata": {
        "id": "0VBi3RS35Xi6"
      },
      "source": [
        "# Main Model \r\n",
        "\r\n",
        "def get_model(input_shape):\r\n",
        "  inputs = tf.keras.Input(shape=input_shape)  #input layer\r\n",
        "  layer1 = tf.keras.layers.Conv2D(\r\n",
        "      filters=2,\r\n",
        "      kernel_size=4,\r\n",
        "      strides=(1, 1),\r\n",
        "      padding=\"valid\",\r\n",
        "      data_format=None,\r\n",
        "      dilation_rate=(1, 1),\r\n",
        "      groups=1,\r\n",
        "      activation='relu',\r\n",
        "      use_bias=True,\r\n",
        "      kernel_initializer=\"glorot_uniform\",\r\n",
        "      bias_initializer=\"zeros\",\r\n",
        "      kernel_regularizer=None,\r\n",
        "      bias_regularizer=None,\r\n",
        "      activity_regularizer=None,\r\n",
        "      kernel_constraint=None,\r\n",
        "      bias_constraint=None,\r\n",
        "  )(inputs)\r\n",
        "  layer2 = tf.keras.layers.Flatten()(layer1)\r\n",
        "  outputs = tf.keras.layers.Dense(\r\n",
        "      1,\r\n",
        "      activation='sigmoid',\r\n",
        "      use_bias=True,\r\n",
        "      kernel_initializer=\"glorot_uniform\",\r\n",
        "      bias_initializer=\"zeros\",\r\n",
        "      kernel_regularizer=None,\r\n",
        "      bias_regularizer=None,\r\n",
        "      activity_regularizer=None,\r\n",
        "      kernel_constraint=None,\r\n",
        "      bias_constraint=None,\r\n",
        "  )(layer2)\r\n",
        "\r\n",
        "  model = tf.keras.models.Model(inputs=inputs, outputs=outputs)\r\n",
        "  model.summary()\r\n",
        "  # plot_model(model, to_file='model_basic_with_updated_conv_and_dense_layers.png')\r\n",
        "  return model"
      ],
      "execution_count": 8,
      "outputs": []
    },
    {
      "cell_type": "code",
      "metadata": {
        "id": "Jl0UEJjppo79"
      },
      "source": [
        "def recall_m(y_true, y_pred):\r\n",
        "    true_positives = K.sum(K.round(K.clip(y_true * y_pred, 0, 1)))\r\n",
        "    possible_positives = K.sum(K.round(K.clip(y_true, 0, 1)))\r\n",
        "    recall = true_positives / (possible_positives + K.epsilon())\r\n",
        "    return recall\r\n",
        "\r\n",
        "def precision_m(y_true, y_pred):\r\n",
        "    true_positives = K.sum(K.round(K.clip(y_true * y_pred, 0, 1)))\r\n",
        "    predicted_positives = K.sum(K.round(K.clip(y_pred, 0, 1)))\r\n",
        "    precision = true_positives / (predicted_positives + K.epsilon())\r\n",
        "    return precision\r\n",
        "\r\n",
        "def f1_m(y_true, y_pred):\r\n",
        "    precision = precision_m(y_true, y_pred)\r\n",
        "    recall = recall_m(y_true, y_pred)\r\n",
        "    return 2*((precision*recall)/(precision+recall+K.epsilon()))"
      ],
      "execution_count": 9,
      "outputs": []
    },
    {
      "cell_type": "code",
      "metadata": {
        "id": "GNZ31Tj15buP",
        "colab": {
          "base_uri": "https://localhost:8080/"
        },
        "outputId": "0648db8b-e8cc-4951-e5bd-69a127f89225"
      },
      "source": [
        "# Model Compilation -- Vinay\n",
        "# https://keras.io/api/models/model_training_apis/\n",
        "\n",
        "Main_Model = get_model((256,256,3))\n",
        "Main_Model.compile(\n",
        "    optimizer=\"adam\",\n",
        "    loss=\"binary_crossentropy\",\n",
        "    metrics=['acc',f1_m,precision_m, recall_m],\n",
        ")"
      ],
      "execution_count": 10,
      "outputs": [
        {
          "output_type": "stream",
          "text": [
            "Model: \"model\"\n",
            "_________________________________________________________________\n",
            "Layer (type)                 Output Shape              Param #   \n",
            "=================================================================\n",
            "input_1 (InputLayer)         [(None, 256, 256, 3)]     0         \n",
            "_________________________________________________________________\n",
            "conv2d (Conv2D)              (None, 253, 253, 2)       98        \n",
            "_________________________________________________________________\n",
            "flatten (Flatten)            (None, 128018)            0         \n",
            "_________________________________________________________________\n",
            "dense (Dense)                (None, 1)                 128019    \n",
            "=================================================================\n",
            "Total params: 128,117\n",
            "Trainable params: 128,117\n",
            "Non-trainable params: 0\n",
            "_________________________________________________________________\n"
          ],
          "name": "stdout"
        }
      ]
    },
    {
      "cell_type": "code",
      "metadata": {
        "id": "IFgDxtDw5epa",
        "colab": {
          "base_uri": "https://localhost:8080/"
        },
        "outputId": "82546cc1-e603-4001-b1ed-529bf8abbf41"
      },
      "source": [
        "# Training -- Vipul\n",
        "# https://keras.io/api/models/model_training_apis/\n",
        "\n",
        "Main_Model.fit(\n",
        "    train_dataset,\n",
        "    epochs=1,\n",
        "    verbose=1,\n",
        ")"
      ],
      "execution_count": 11,
      "outputs": [
        {
          "output_type": "stream",
          "text": [
            "313/313 [==============================] - 205s 650ms/step - loss: 1.3249 - acc: 0.7190 - f1_m: 0.7277 - precision_m: 0.7034 - recall_m: 0.7780\n"
          ],
          "name": "stdout"
        },
        {
          "output_type": "execute_result",
          "data": {
            "text/plain": [
              "<tensorflow.python.keras.callbacks.History at 0x7fe9da128290>"
            ]
          },
          "metadata": {
            "tags": []
          },
          "execution_count": 11
        }
      ]
    },
    {
      "cell_type": "code",
      "metadata": {
        "id": "dVYNGp1W7Bvw"
      },
      "source": [
        "# Adding call Back Functions(optional)\n",
        "# https://medium.com/@thongonary/how-to-compute-f1-score-for-each-epoch-in-keras-a1acd17715a2"
      ],
      "execution_count": null,
      "outputs": []
    },
    {
      "cell_type": "code",
      "metadata": {
        "id": "NeQSejCv5I0K",
        "colab": {
          "base_uri": "https://localhost:8080/"
        },
        "outputId": "2e56d156-7f6b-430d-b447-dc8c4719f8c6"
      },
      "source": [
        "# model evaluation\n",
        "# https://keras.io/api/models/model_training_apis/\n",
        "\n",
        "Main_Model.evaluate(\n",
        "    val_dataset,\n",
        "    batch_size=32,\n",
        "    verbose=1,\n",
        ")"
      ],
      "execution_count": 12,
      "outputs": [
        {
          "output_type": "stream",
          "text": [
            "25/25 [==============================] - 7s 244ms/step - loss: 0.5966 - acc: 0.7300 - f1_m: 0.7643 - precision_m: 0.6770 - recall_m: 0.8926\n"
          ],
          "name": "stdout"
        },
        {
          "output_type": "execute_result",
          "data": {
            "text/plain": [
              "[0.596629798412323,\n",
              " 0.7300000190734863,\n",
              " 0.764309823513031,\n",
              " 0.677000105381012,\n",
              " 0.8925660848617554]"
            ]
          },
          "metadata": {
            "tags": []
          },
          "execution_count": 12
        }
      ]
    },
    {
      "cell_type": "code",
      "metadata": {
        "id": "MfkMRIPh5r7i"
      },
      "source": [
        "# Predictions of single random image -- Vipul\n",
        "# https://keras.io/api/models/model_training_apis/"
      ],
      "execution_count": null,
      "outputs": []
    },
    {
      "cell_type": "code",
      "metadata": {
        "id": "01Xvxsds5grG"
      },
      "source": [
        "# Predictions of Validation data set(Dev) -- Vinay\r\n",
        "\r\n",
        "for images, label in val_dataset:\r\n",
        "    prediction = Main_Model.predict(images, verbose=1)\r\n",
        "    for i in range(len(prediction)):\r\n",
        "      image = cv2.cvtColor(images[i].numpy(), cv2.COLOR_BGR2RGB)\r\n",
        "      cv2_imshow(image)\r\n",
        "      if(prediction[i] >= 0.5):\r\n",
        "        p = 1\r\n",
        "      else:\r\n",
        "        p = 0\r\n",
        "      print(p,label[i])"
      ],
      "execution_count": null,
      "outputs": []
    },
    {
      "cell_type": "code",
      "metadata": {
        "id": "vZDmMDzt6P05"
      },
      "source": [
        "# Drawing the train and dev Loss and accuracy of the model, visualising too -- Vipul"
      ],
      "execution_count": 19,
      "outputs": []
    },
    {
      "cell_type": "code",
      "metadata": {
        "id": "MQIxWekl6WrB"
      },
      "source": [
        "# Calculating the F1-Score of the Model on Dev data set -- Vinay\n",
        "# https://datascience.stackexchange.com/questions/45165/how-to-get-accuracy-f1-precision-and-recall-for-a-keras-model\n",
        "# https://medium.com/@thongonary/how-to-compute-f1-score-for-each-epoch-in-keras-a1acd17715a2"
      ],
      "execution_count": null,
      "outputs": []
    },
    {
      "cell_type": "code",
      "metadata": {
        "id": "f3SpRlon6avL"
      },
      "source": [
        "# Visualisation of the F1-Score on Dev data set-- Vinay"
      ],
      "execution_count": null,
      "outputs": []
    }
  ]
}