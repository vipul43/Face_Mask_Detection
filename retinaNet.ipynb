{
  "nbformat": 4,
  "nbformat_minor": 0,
  "metadata": {
    "colab": {
      "name": "retinaNet.ipynb",
      "provenance": [],
      "collapsed_sections": [],
      "authorship_tag": "ABX9TyMErEqov9jvKwp+L7S9WXcL",
      "include_colab_link": true
    },
    "kernelspec": {
      "name": "python3",
      "display_name": "Python 3"
    }
  },
  "cells": [
    {
      "cell_type": "markdown",
      "metadata": {
        "id": "view-in-github",
        "colab_type": "text"
      },
      "source": [
        "<a href=\"https://colab.research.google.com/github/pulavartivinay/Face_Mask_Detection/blob/retinaNet/retinaNet.ipynb\" target=\"_parent\"><img src=\"https://colab.research.google.com/assets/colab-badge.svg\" alt=\"Open In Colab\"/></a>"
      ]
    },
    {
      "cell_type": "code",
      "metadata": {
        "id": "Sesa-EYrkZcr"
      },
      "source": [
        "# start"
      ],
      "execution_count": 1,
      "outputs": []
    },
    {
      "cell_type": "code",
      "metadata": {
        "id": "JALvgeg_pOVj"
      },
      "source": [
        "# loading dataset\n",
        "# https://github.com/X-zhangyang/Real-World-Masked-Face-Dataset"
      ],
      "execution_count": 13,
      "outputs": []
    },
    {
      "cell_type": "code",
      "metadata": {
        "id": "bSUPcVFHpRCp"
      },
      "source": [
        "# pre processing the dataset\n",
        "# https://keras.io/api/preprocessing/"
      ],
      "execution_count": 15,
      "outputs": []
    },
    {
      "cell_type": "code",
      "metadata": {
        "id": "jkab0jZ9pWQW"
      },
      "source": [
        "# building the retinaNet model for Face Detection - retinaFace\n",
        "# https://pypi.org/project/face-detection/\n",
        "# https://github.com/elliottzheng/face-detection"
      ],
      "execution_count": 16,
      "outputs": []
    },
    {
      "cell_type": "code",
      "metadata": {
        "id": "jhukSElVqBSr"
      },
      "source": [
        "# building the openCV image cropping function\n",
        "# https://stackoverflow.com/questions/15589517/how-to-crop-an-image-in-opencv-using-python"
      ],
      "execution_count": null,
      "outputs": []
    },
    {
      "cell_type": "code",
      "metadata": {
        "id": "HT0x2tiYpbHn"
      },
      "source": [
        "# passing random image from the dataset through retinaNet Face Detection model and visualising the output"
      ],
      "execution_count": 7,
      "outputs": []
    },
    {
      "cell_type": "code",
      "metadata": {
        "id": "L7DNF0FMqcfg"
      },
      "source": [
        "# passing random image face detection output of retinaNet Face Detection model to openCV image cropping function and visualising the image"
      ],
      "execution_count": null,
      "outputs": []
    },
    {
      "cell_type": "code",
      "metadata": {
        "id": "5M1X5Dp_p4aM"
      },
      "source": [
        "# passing all images from the dataset through retinaNet Face Detection model (no visualisation)"
      ],
      "execution_count": 11,
      "outputs": []
    },
    {
      "cell_type": "code",
      "metadata": {
        "id": "EYhNrzP1qtdm"
      },
      "source": [
        "# passing all images face detection output of retinaNet Face Detection model to openCV image cropping function (no visualisation)"
      ],
      "execution_count": null,
      "outputs": []
    }
  ]
}