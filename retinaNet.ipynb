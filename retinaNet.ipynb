{
  "nbformat": 4,
  "nbformat_minor": 0,
  "metadata": {
    "colab": {
      "name": "retinaNet.ipynb",
      "provenance": [],
      "collapsed_sections": [],
      "authorship_tag": "ABX9TyNS8Yaqp3+Lkmsk0STcOd0r",
      "include_colab_link": true
    },
    "kernelspec": {
      "name": "python3",
      "display_name": "Python 3"
    }
  },
  "cells": [
    {
      "cell_type": "markdown",
      "metadata": {
        "id": "view-in-github",
        "colab_type": "text"
      },
      "source": [
        "<a href=\"https://colab.research.google.com/github/pulavartivinay/Face_Mask_Detection/blob/retinaNet/retinaNet.ipynb\" target=\"_parent\"><img src=\"https://colab.research.google.com/assets/colab-badge.svg\" alt=\"Open In Colab\"/></a>"
      ]
    },
    {
      "cell_type": "code",
      "metadata": {
        "id": "Sesa-EYrkZcr"
      },
      "source": [
        "# start"
      ],
      "execution_count": 2,
      "outputs": []
    },
    {
      "cell_type": "code",
      "metadata": {
        "id": "roJnIBZZClCJ"
      },
      "source": [
        "# imports\n",
        "import os\n",
        "import cv2"
      ],
      "execution_count": 3,
      "outputs": []
    },
    {
      "cell_type": "code",
      "metadata": {
        "colab": {
          "base_uri": "https://localhost:8080/"
        },
        "id": "JALvgeg_pOVj",
        "outputId": "013e88f5-0643-4424-ca12-c9669f96cccf"
      },
      "source": [
        "# loading dataset //vinay\n",
        "# https://github.com/X-zhangyang/Real-World-Masked-Face-Dataset\n",
        "\n",
        "!gdown --id 1UlOk6EtiaXTHylRUx2mySgvJX9ycoeBp #loading the dataset(zip file) from google drive link to colab\n",
        "!unzip /content/RMFD.zip &> /dev/null #unzipping our file\n",
        "!rm -rf /content/RMFD.zip #deleting the zip file"
      ],
      "execution_count": 4,
      "outputs": [
        {
          "output_type": "stream",
          "text": [
            "Downloading...\n",
            "From: https://drive.google.com/uc?id=1UlOk6EtiaXTHylRUx2mySgvJX9ycoeBp\n",
            "To: /content/RMFD.zip\n",
            "640MB [00:02, 247MB/s]\n"
          ],
          "name": "stdout"
        }
      ]
    },
    {
      "cell_type": "code",
      "metadata": {
        "colab": {
          "base_uri": "https://localhost:8080/"
        },
        "id": "bSUPcVFHpRCp",
        "outputId": "4d259308-f7fd-48ae-aa65-2b540e5a7d80"
      },
      "source": [
        "# pre processing the dataset //vipul\n",
        "# https://stackoverflow.com/questions/10989005/do-i-understand-os-walk-right\n",
        "\n",
        "unmasked_paths = []\n",
        "masked_paths = []\n",
        "dataset_path = \"/content/self-built-masked-face-recognition-dataset/\"\n",
        "unmasked_face_dataset_path = dataset_path + \"AFDB_face_dataset/\"\n",
        "masked_face_dataset_path = dataset_path + \"AFDB_masked_face_dataset/\"\n",
        "for (root,dirs,files) in os.walk(unmasked_face_dataset_path): # try to make this part efficient?\n",
        "  for dir in dirs:\n",
        "    if(dir!=\".ipynb_checkpoints\"):\n",
        "      dir_path = unmasked_face_dataset_path + dir\n",
        "      for (root, dirs, files) in os.walk(dir_path):\n",
        "        for file in files:\n",
        "          image_path = dir_path + '/' + file\n",
        "          unmasked_paths.append(image_path)\n",
        "for (root,dirs,files) in os.walk(masked_face_dataset_path):\n",
        "  for dir in dirs:\n",
        "    if(dir!=\".ipynb_checkpoints\"):\n",
        "      dir_path = masked_face_dataset_path + dir\n",
        "      for (root, dirs, files) in os.walk(dir_path):\n",
        "        for file in files:\n",
        "          image_path = dir_path + '/' + file\n",
        "          masked_paths.append(image_path)\n",
        "print(len(masked_paths))\n",
        "print(len(unmasked_paths))"
      ],
      "execution_count": 4,
      "outputs": [
        {
          "output_type": "stream",
          "text": [
            "2203\n",
            "90468\n"
          ],
          "name": "stdout"
        }
      ]
    },
    {
      "cell_type": "code",
      "metadata": {
        "id": "jkab0jZ9pWQW"
      },
      "source": [
        "# building the retinaNet model for Face Detection - retinaFace //vinay\n",
        "# https://pypi.org/project/face-detection/\n",
        "# https://pypi.org/project/fdet/"
      ],
      "execution_count": 5,
      "outputs": []
    },
    {
      "cell_type": "code",
      "metadata": {
        "id": "jhukSElVqBSr"
      },
      "source": [
        "# building the openCV image cropping function //vipul\n",
        "# https://stackoverflow.com/questions/15589517/how-to-crop-an-image-in-opencv-using-python"
      ],
      "execution_count": 5,
      "outputs": []
    },
    {
      "cell_type": "code",
      "metadata": {
        "id": "HT0x2tiYpbHn"
      },
      "source": [
        "# passing random image from the dataset through retinaNet Face Detection model and visualising the output //vinay"
      ],
      "execution_count": 7,
      "outputs": []
    },
    {
      "cell_type": "code",
      "metadata": {
        "id": "L7DNF0FMqcfg"
      },
      "source": [
        "# passing random image face detection output of retinaNet Face Detection model to openCV image cropping function and visualising the image //vipul"
      ],
      "execution_count": 8,
      "outputs": []
    },
    {
      "cell_type": "code",
      "metadata": {
        "id": "5M1X5Dp_p4aM"
      },
      "source": [
        "# passing all images from the dataset through retinaNet Face Detection model (no visualisation) //vipul"
      ],
      "execution_count": 9,
      "outputs": []
    },
    {
      "cell_type": "code",
      "metadata": {
        "id": "EYhNrzP1qtdm"
      },
      "source": [
        "# passing all images face detection output of retinaNet Face Detection model to openCV image cropping function (no visualisation) //vinay"
      ],
      "execution_count": 10,
      "outputs": []
    }
  ]
}